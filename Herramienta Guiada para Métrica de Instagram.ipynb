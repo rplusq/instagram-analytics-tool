{
 "cells": [
  {
   "cell_type": "markdown",
   "metadata": {},
   "source": [
    "# Herramienta para el Análisis de Datos de una cuenta de Instagram\n",
    "Bienvenido a la herramienta para obtener las métricas de cuentas de Instagram de negocios. En esta plataforma, podrás ejecutar el código que se conecta con Instagram directamente, que estará acompañado con una guía que llevará de la mano a quien utilice la herramienta para obtener las métricas deseadas. De tener alguna duda, revisar las preguntas frecuentes al final de la herramienta.\n",
    "\n",
    "## ¿Qué necesito para utilizar la herramienta?\n",
    "1. Una cuenta de Instagram de Empresa (es decir, con analíticas activadas)\n",
    "2. Acceso a la cuenta de Facebook que está asociado al Instagram del que quieres obtener las analíticas.\n",
    "3. Una aplicación en [Facebook Developers](https://developers.facebook.com/apps/)."
   ]
  },
  {
   "cell_type": "markdown",
   "metadata": {},
   "source": [
    "### Pasos para utilizar la herramienta\n",
    "1. Accede a la aplicación que creaste a través de https://developers.facebook.com/apps/\n",
    "![](fotosHerramientaInstagram/paso8-accederALaApp.png)\n",
    "2. Copia el ID de Cliente y la Llave secreta del cliente, que podrás obtener al hacer click en Configuración Básica de la aplicación que generaste en https://developers.facebook.com/apps/\n",
    "![](fotosHerramientaInstagram/paso9-copiarIdYClave.png)\n",
    "3. Llena los siguientes campos con los valores copiados del cliente"
   ]
  },
  {
   "cell_type": "code",
   "execution_count": null,
   "metadata": {},
   "outputs": [],
   "source": [
    "# ID DE CLIENTE\n",
    "client_id = \"\"\n",
    "# LLAVE SECRETA DEL CLIENTE\n",
    "client_secret_key = \"\"\n",
    "# EJECUTAR CON SHIFT+Enter"
   ]
  },
  {
   "cell_type": "markdown",
   "metadata": {},
   "source": [
    "4. Abre la página para las [Herramientas del API de Grafo de Facebook](https://developers.facebook.com/tools/explorer)\n",
    "5. Selecciona Obtener Token de Acceso de Usuario siguiendo los pasos de la foto.\n",
    "![](fotosHerramientaInstagram/paso5-comienzoTokenDeAcceso.png)\n",
    "6. Confirma el acceso de Facebook \n",
    "![](fotosHerramientaInstagram/paso6-confirmarAcceso.png)\n",
    "7. Agrega los siguientes permisos para que la herramienta pueda utilizar acceder a la información de la cuenta de Instagram:  \n",
    "    - instagram_basic\n",
    "    - instagram_manage_comments\n",
    "    - instagram_manage_insights\n",
    "    - pages_read_engagement\n",
    "    - pages_show_list\n",
    "8. Genera el código (válido por 1 hora) haciendo click en Generate Access Token y acepta los permisos de Facebook.\n",
    "![](fotosHerramientaInstagram/paso7-generarCodigoDeAcceso.png)\n",
    "9. Copia el token de acceso y llene el siguiente campo con el código entre comillas. Habrán numerales que indicarán instrucciones dentro del código. Después, presiona SHIFT+Enter en la casilla.\n"
   ]
  },
  {
   "cell_type": "code",
   "execution_count": null,
   "metadata": {},
   "outputs": [],
   "source": [
    "# CÓDIGO DE ACCESO DE 1 HORA\n",
    "one_hour_access_token = \"\"\n",
    "# EJECUTAR CON SHIFT+Enter"
   ]
  },
  {
   "cell_type": "code",
   "execution_count": null,
   "metadata": {},
   "outputs": [],
   "source": [
    "# NO EDITAR, SOLO EJECUTAR CON SHIFT+Enter\n",
    "import json\n",
    "from datetime import datetime\n",
    "import pandas as pd\n",
    "import dateutil.parser as dt\n",
    "from instagram_graph_api import debugAccessToken, getCreds, getInstagramBusinessAccounts, getLongLivedAccessToken, getMediaInsights, getUserInsights, getUserMedia, getUserPages\n",
    "from unofficial_instagram_api import get_info_from_api as get_info_from_unofficial_api, date_validator\n",
    "from instagram_internal_tool_library import display_post_info, get_hashtags, merge_apis_data"
   ]
  },
  {
   "cell_type": "markdown",
   "metadata": {},
   "source": [
    "10. Prueba la conexión ejecutando la siguiente celda"
   ]
  },
  {
   "cell_type": "code",
   "execution_count": null,
   "metadata": {},
   "outputs": [],
   "source": [
    "# NO EDITAR, SOLO EJECUTAR CON SHIFT+Enter\n",
    "params = getCreds(one_hour_access_token, client_id, client_secret_key)\n",
    "params['debug'] = False # set debug\n",
    "\n",
    "res_data = debugAccessToken(params)['json_data']\n",
    "\n",
    "if('error' in res_data.keys()):\n",
    "    print('Hubo un error, revisar los pasos uno a uno a partir desde el inicio.')\n",
    "else:\n",
    "    print('Prueba exitosa, continúa con el proceso')"
   ]
  },
  {
   "cell_type": "markdown",
   "metadata": {},
   "source": [
    "11. Ingresa el nombre de la página de Facebook asociada con la cuenta de Instagram"
   ]
  },
  {
   "cell_type": "code",
   "execution_count": null,
   "metadata": {},
   "outputs": [],
   "source": [
    "# INGRESA EL NOMBRE DE LA PÁGINA DE FACEBOOK\n",
    "page_name = ''\n",
    "\n",
    "# NO EDITAR, SOLO EJECUTAR CON SHIFT+Enter\n",
    "response = getUserPages(params)\n",
    "found_page = False\n",
    "page_id = None\n",
    "for page in response['json_data']['data']:\n",
    "    if page['name'].lower().replace(\" \",\"\") == page_name.lower().replace(\" \",\"\"):\n",
    "        page_id = page['id']\n",
    "        found_page = True\n",
    "\n",
    "params['page_id'] = page_id\n",
    "\n",
    "# Nombres mas claros\n",
    "if found_page == False:\n",
    "    found_pages = list(map(lambda page: page['name'],response['json_data']['data']))\n",
    "    print('No se consiguió ninguna página con ese nombre. Le presentamos las páginas conseguidas')\n",
    "    print(found_pages)\n",
    "    print('Corrija por el nombre correcto. Si no ve la página que busca, contacte con el programador: Rafael Quintero')\n",
    "else:\n",
    "    print('Puede continuar con el siguiente paso de la herramienta')"
   ]
  },
  {
   "cell_type": "markdown",
   "metadata": {},
   "source": [
    "12. Si después de terminar el paso 12, no hubo ningún error, introduzca el mes y el año del que se quieren obtener las métricas. Ejecuta las casillas de código"
   ]
  },
  {
   "cell_type": "code",
   "execution_count": null,
   "metadata": {},
   "outputs": [],
   "source": [
    "# Mes de Inicio (sin comillas)\n",
    "start_month = 6\n",
    "# Año de Inicio (sin comillas)\n",
    "start_year = 2020"
   ]
  },
  {
   "cell_type": "markdown",
   "metadata": {},
   "source": [
    "13. Si no quieres que las métricas lleguen hasta el día de hoy, especifica el año y mes de finalización de métricas. Al no hacerlo, se mostrarán las métricas de los post publicados desde el año y mes de inicio especificado hasta el día de hoy."
   ]
  },
  {
   "cell_type": "code",
   "execution_count": null,
   "metadata": {},
   "outputs": [],
   "source": [
    "# Mes de Fin (sin comillas) \n",
    "end_month = datetime.now().month\n",
    "# Año de Fin (sin comillas)\n",
    "end_year = datetime.now().year\n",
    "# NO EDITAR, SOLO EJECUTAR CON SHIFT+Enter\n",
    "params['instagram_account_id'] = getInstagramBusinessAccounts( params )['json_data']['instagram_business_account']['id']"
   ]
  },
  {
   "cell_type": "code",
   "execution_count": null,
   "metadata": {},
   "outputs": [],
   "source": [
    "# NO EDITAR, SOLO EJECUTAR CON SHIFT+Enter\n",
    "official_user_insights_unformatted = getUserInsights( params )['json_data']['data']\n",
    "official_user_insights = dict()\n",
    "for user_insight in official_user_insights_unformatted:\n",
    "    official_user_insights[user_insight['name']] = user_insight['values'][0]['value']"
   ]
  },
  {
   "cell_type": "code",
   "execution_count": null,
   "metadata": {},
   "outputs": [],
   "source": [
    "# NO EDITAR, SOLO EJECUTAR CON SHIFT+Enter\n",
    "basic_media_metrics = 'engagement,impressions,reach,saved'\n",
    "params['metric'] = basic_media_metrics\n",
    "# We fetch until we get all the media items needed\n",
    "user_media_next_page = ''\n",
    "fetched_all_media_items = False\n",
    "fetched_media_items_count = 0\n",
    "post_insights = list()\n",
    "post_metrics_keys = []\n",
    "hashtag_metrics = []\n",
    "while not fetched_all_media_items:\n",
    "    user_media_response = getUserMedia(params, user_media_next_page)['json_data']\n",
    "    media_items = user_media_response['data']\n",
    "    fetched_media_items_count += len(media_items)\n",
    "    user_media_next_page = user_media_response['paging']['next']\n",
    "    for index, item in enumerate(media_items, start=1):\n",
    "        # We restart the params for the query\n",
    "        params['metric'] = basic_media_metrics\n",
    "        params['ig_media_id'] = item['id']\n",
    "        # We parse the date\n",
    "        date = dt.parse(item['timestamp'])\n",
    "        # If the date's not valid, then we check if we at least got one before stopping\n",
    "        if not date_validator(date.month, date.year, start_year, start_month, end_year, end_month):\n",
    "            # If at least one item got discovered, we fetched all items\n",
    "            if date.year < start_year or date.year == start_year and date.month < start_month:\n",
    "                fetched_all_media_items = True\n",
    "                break\n",
    "            else:\n",
    "                fetched_all_media_items = len(post_insights) > 1 \n",
    "        # If the date is valid, we proceed normally\n",
    "        elif date_validator(date.month, date.year, start_year, start_month, end_year, end_month):\n",
    "            # We just add the items that meet the year and month established. We add their specific metrics\n",
    "            if(item['media_type']) == 'CAROUSEL_ALBUM':\n",
    "                params['metric'] += ',carousel_album_engagement,carousel_album_impressions,carousel_album_reach,carousel_album_saved,carousel_album_video_views'\n",
    "            if(item['media_type']) == 'VIDEO':\n",
    "                params['metric'] += ',video_views'\n",
    "            insights = getMediaInsights(params)['json_data']['data']\n",
    "            # We add the metrics for the item\n",
    "            for insight in insights:\n",
    "                if insight['name'] not in post_metrics_keys:\n",
    "                    post_metrics_keys.append(insight['name'])\n",
    "                item[insight['name']] = insight['values'][0]['value']\n",
    "            # Adding the item to the list\n",
    "            post_insights.append(item)"
   ]
  },
  {
   "cell_type": "markdown",
   "metadata": {},
   "source": [
    "14. Ingresa el usuario de Instagram del que estás calculando las métricas, luego, ejecuta el código"
   ]
  },
  {
   "cell_type": "code",
   "execution_count": null,
   "metadata": {},
   "outputs": [],
   "source": [
    "# INGRESA EL NOMBRE DEL USUARIO DE INSTAGRAM\n",
    "instagram_user = \"\"\n",
    "# NO EDITAR, SOLO EJECUTAR CON SHIFT+Enter\n",
    "unofficial_api_response = get_info_from_unofficial_api(instagram_user,fetched_media_items_count,start_year, start_month, end_year, end_month)\n",
    "unofficial_posts = unofficial_api_response['medias']\n",
    "unofficial_user_insights = unofficial_api_response['account']"
   ]
  },
  {
   "cell_type": "code",
   "execution_count": null,
   "metadata": {},
   "outputs": [],
   "source": [
    "# NO EDITAR, SOLO EJECUTAR CON SHIFT+Enter\n",
    "posts_info = merge_apis_data(post_insights, unofficial_posts)"
   ]
  },
  {
   "cell_type": "code",
   "execution_count": null,
   "metadata": {},
   "outputs": [],
   "source": [
    "hashtag_metrics = []\n",
    "# Getting the hashtags metrics\n",
    "for item in posts_info:\n",
    "    post_hashtags = get_hashtags(item['caption'])\n",
    "    for hashtag in post_hashtags:\n",
    "        # We check if the hashtag exists\n",
    "        old_existing_hashtag = next(filter(lambda ht: ht['id'] == hashtag, hashtag_metrics), None)\n",
    "        if(old_existing_hashtag is not None):\n",
    "            # We get its index\n",
    "            hashtag_index = hashtag_metrics.index(old_existing_hashtag)\n",
    "            # We update the values in a copy\n",
    "            updated_existing_hashtag = old_existing_hashtag.copy()\n",
    "            updated_existing_hashtag['engagement'] = old_existing_hashtag['engagement'] + item['engagement']\n",
    "            updated_existing_hashtag['reach'] = old_existing_hashtag['reach'] + item['reach']\n",
    "            updated_existing_hashtag['comments'] = old_existing_hashtag['comments'] + item['comments']\n",
    "            updated_existing_hashtag['likes'] = old_existing_hashtag['likes'] + item['likes']\n",
    "            updated_existing_hashtag['times_used'] = old_existing_hashtag['times_used'] + 1\n",
    "            # We update the list item\n",
    "            hashtag_metrics[hashtag_index] = updated_existing_hashtag\n",
    "        else:\n",
    "            # If the hashtag doesn't exist, we create it and append it\n",
    "            new_hashtag_metric = dict()\n",
    "            new_hashtag_metric['id'] = hashtag\n",
    "            new_hashtag_metric['reach'] = item['reach']\n",
    "            new_hashtag_metric['engagement'] = item['engagement']\n",
    "            new_hashtag_metric['likes'] = item['likes']\n",
    "            new_hashtag_metric['comments'] = item['comments']\n",
    "            new_hashtag_metric['times_used'] = 1\n",
    "            hashtag_metrics.append(new_hashtag_metric)"
   ]
  },
  {
   "cell_type": "code",
   "execution_count": null,
   "metadata": {},
   "outputs": [],
   "source": [
    "# NO EDITAR, SOLO EJECUTAR CON SHIFT+Enter\n",
    "# Posts DataFrame Keys\n",
    "post_df = pd.DataFrame()\n",
    "post_basic_info_keys = ['caption','media_type','media_url','permalink','thumbnail_url','timestamp', 'likes', 'comments']\n",
    "post_df_keys = post_basic_info_keys + post_metrics_keys\n",
    "for key in post_df_keys:\n",
    "    post_df[key] = pd.Series(list(map(lambda post: post[key] if key in post.keys() else 0, posts_info)))\n",
    "# Hashtags DataFrame\n",
    "hashtag_df = pd.DataFrame()\n",
    "hashtag_df_keys = ['id', 'times_used']\n",
    "hashtag_df_avg_keys = ['reach','engagement', 'likes','comments']\n",
    "for key in hashtag_df_keys:\n",
    "    hashtag_df[key] = pd.Series(list(map(lambda hashtag: hashtag[key] if key in hashtag.keys() else 0, hashtag_metrics)))\n",
    "for key in hashtag_df_avg_keys:\n",
    "    hashtag_df[f\"avg_{key}\"] = pd.Series(list(map(lambda hashtag: hashtag[key]/hashtag['times_used'] if key in hashtag.keys() else 0, hashtag_metrics)))\n",
    "# Relevant Info DataFrame\n",
    "relevant_info_df = pd.DataFrame()\n",
    "desired_data_keys = ['comments', 'likes', 'saved', 'engagement', 'impressions', 'reach']\n",
    "for key in desired_data_keys:\n",
    "    relevant_info_df[f\"total_{key}\"] = pd.Series([post_df[key].sum()])\n",
    "    relevant_info_df[f\"avg_{key}\"] = pd.Series([post_df[key].mean()])\n",
    "# User Insights DataFrame\n",
    "user_insights_df = pd.DataFrame()\n",
    "user_insights_df['username'] = pd.Series([unofficial_user_insights['username']])\n",
    "user_insights_df['followers'] = pd.Series([unofficial_user_insights['followed_by_count']])\n",
    "user_insights_df['weekly_follower_count'] = pd.Series([official_user_insights['follower_count']])\n",
    "user_insights_df['follows'] = pd.Series([unofficial_user_insights['follows_count']])\n",
    "user_insights_df['posts_count'] = pd.Series([unofficial_user_insights['media_count']])\n",
    "user_insights_df['account_is_private'] = pd.Series([unofficial_user_insights['is_private']])\n",
    "user_insights_df['weekly_reach'] = pd.Series([official_user_insights['reach']])\n",
    "user_insights_df['weekly_profile_views'] = pd.Series([official_user_insights['profile_views']])\n",
    "user_insights_df['weekly_impressions'] = pd.Series([official_user_insights['impressions']])"
   ]
  },
  {
   "cell_type": "markdown",
   "metadata": {},
   "source": [
    "15. Ejecuta para ver los mejores 5 posts"
   ]
  },
  {
   "cell_type": "code",
   "execution_count": null,
   "metadata": {},
   "outputs": [],
   "source": [
    "# NO EDITAR, SOLO EJECUTAR CON SHIFT+Enter\n",
    "for row in post_df.sort_values(by=['engagement'], ascending=False).head(5).iterrows():\n",
    "    display_post_info(row)"
   ]
  },
  {
   "cell_type": "markdown",
   "metadata": {},
   "source": [
    "16. Ejecuta para ver los peores 5 posts según Engagement: Likes + Comments + Saves"
   ]
  },
  {
   "cell_type": "code",
   "execution_count": null,
   "metadata": {},
   "outputs": [],
   "source": [
    "# NO EDITAR, SOLO EJECUTAR CON SHIFT+Enter\n",
    "for row in post_df.sort_values(by=['engagement'], ascending=True).head(5).iterrows():\n",
    "    display_post_info(row)"
   ]
  },
  {
   "cell_type": "markdown",
   "metadata": {},
   "source": [
    "17. Guarda el Archivo Excel"
   ]
  },
  {
   "cell_type": "code",
   "execution_count": null,
   "metadata": {},
   "outputs": [],
   "source": [
    "# NO EDITAR, SOLO EJECUTAR CON SHIFT+Enter\n",
    "date = f\"{datetime.now().day}-{datetime.now().month}-{datetime.now().year}\"\n",
    "file_name = f'metricas_{instagram_user}_{date}'\n",
    "with pd.ExcelWriter(f\"{file_name}.xlsx\") as writer:\n",
    "    post_df.to_excel(writer, sheet_name='Posts')\n",
    "    hashtag_df.to_excel(writer, sheet_name='Hashtags')\n",
    "    user_insights_df.to_excel(writer, sheet_name='User Insights')\n",
    "    relevant_info_df.to_excel(writer, sheet_name='Relevant Info')"
   ]
  },
  {
   "cell_type": "markdown",
   "metadata": {},
   "source": [
    "## Posibles preguntas sobre la Herramienta\n",
    "\n",
    "### ¿Cómo me registro en Facebook Developers y creo mi aplicación?\n",
    "1. Haz click en Empezar \n",
    "![](fotosHerramientaInstagram/paso0-iniciarRegistro.png)\n",
    "2. Verifica que la información en pantalla es la de la cuenta de Facebook asociada al instagram del que quieres obtener las métricas. Luego, haz click en Siguiente.\n",
    "![](fotosHerramientaInstagram/paso1-aceptarFB.png)\n",
    "3. Rellena cómo usarás la plataforma. En nuestro caso \"Anunciante o Especialista de Marketing\"\n",
    "![](fotosHerramientaInstagram/paso2-informacionSobreUso.png)\n",
    "4. Continúa el proceso. Haz click en Crear Primera App\n",
    "![](fotosHerramientaInstagram/paso3-crearApp.png)\n",
    "5. Rellena la información del formulario y haz click en Crear Identificador de la App.\n",
    "![](fotosHerramientaInstagram/paso4-informacionApp.png)\n",
    "\n",
    "### ¿Qué hago si mi cuenta de Instagram no tiene un Facebook asociado?\n",
    "Si tu cuenta de Instagram no está enlazada con una cuenta de Facebook, deberás seguir los siguientes pasos para vincularla.\n",
    "![](fotosHerramientaInstagram/vincularFB.png)\n",
    "### ¿Qué hago si mi cuenta de Instagram tiene un Facebook que no quiero que esté asociado?\n",
    "Si tu cuenta de Instagram no está enlazada con la cuenta de Facebook que quieres, deberás seguir los siguientes pasos para desvincularlas.\n",
    "![](fotosHerramientaInstagram/desvincularFB.png)"
   ]
  }
 ],
 "metadata": {
  "kernelspec": {
   "display_name": "Python 3",
   "language": "python",
   "name": "python3"
  },
  "language_info": {
   "codemirror_mode": {
    "name": "ipython",
    "version": 3
   },
   "file_extension": ".py",
   "mimetype": "text/x-python",
   "name": "python",
   "nbconvert_exporter": "python",
   "pygments_lexer": "ipython3",
   "version": "3.8.2"
  }
 },
 "nbformat": 4,
 "nbformat_minor": 4
}