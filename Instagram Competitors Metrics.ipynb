{
 "cells": [
  {
   "cell_type": "markdown",
   "metadata": {},
   "source": [
    "# Analíticas de Instagram - Competencia\n",
    "\n",
    "#### Meses: Marzo, Abril y Mayo \n",
    "\n",
    "#### Se necesita:\n",
    "- Número de likes por post \n",
    "- Número de comentarios por post \n",
    "- Número de seguidores \n",
    "\n",
    "#### Se desea:\n",
    "- Número de post publicados en cada mes\n",
    "- Interacción promedio por post (Likes + comentarios / Número de post publicados durante los 3 meses)"
   ]
  },
  {
   "cell_type": "markdown",
   "metadata": {},
   "source": [
    "## Importamos las librerías necesarias"
   ]
  },
  {
   "cell_type": "code",
   "execution_count": 1,
   "metadata": {},
   "outputs": [],
   "source": [
    "import random\n",
    "from time import sleep\n",
    "import datetime\n",
    "import json\n",
    "from igramscraper.instagram import Instagram\n",
    "from functools import reduce\n",
    "import pandas as pd"
   ]
  },
  {
   "cell_type": "markdown",
   "metadata": {},
   "source": [
    "## Inicializamos la instancia de la librería de scraping"
   ]
  },
  {
   "cell_type": "code",
   "execution_count": 2,
   "metadata": {},
   "outputs": [],
   "source": [
    "instagram = Instagram()"
   ]
  },
  {
   "cell_type": "markdown",
   "metadata": {},
   "source": [
    "## Función para filtrar posts que no son de marzo, abril o mayo del 2020"
   ]
  },
  {
   "cell_type": "code",
   "execution_count": 3,
   "metadata": {},
   "outputs": [],
   "source": [
    "def media_filter(media, year, start_month, end_month):\n",
    "    created_at_datetime = datetime.datetime.fromtimestamp(media.created_time)\n",
    "    media_year = created_at_datetime.year\n",
    "    media_month = created_at_datetime.month\n",
    "    return media_year == year and start_month <= media_month <= end_month"
   ]
  },
  {
   "cell_type": "markdown",
   "metadata": {},
   "source": [
    "## Definimos la función para pedir al API, reservando un tiempo adecuado entre requests"
   ]
  },
  {
   "cell_type": "code",
   "execution_count": 4,
   "metadata": {},
   "outputs": [],
   "source": [
    "def get_info_from_api(username, media_count, counter):\n",
    "    results = dict()\n",
    "    results['account'] = instagram.get_account(username)\n",
    "    # We sleep between calls\n",
    "    sleep(random.uniform(15,30))\n",
    "    # We filter the media that doesn't meet the requirements\n",
    "    medias = instagram.get_medias(username, media_count)\n",
    "    results['medias'] = list(filter(lambda media: media_filter(media, 2020,3,5), medias))\n",
    "    return results"
   ]
  },
  {
   "cell_type": "markdown",
   "metadata": {},
   "source": [
    "## Definimos los username de las cuentas que se revisarán"
   ]
  },
  {
   "cell_type": "code",
   "execution_count": 5,
   "metadata": {},
   "outputs": [],
   "source": [
    "account_names = [\"nombres\",\"de\",\"cuentas\"]"
   ]
  },
  {
   "cell_type": "markdown",
   "metadata": {},
   "source": [
    "## Obtenemos la información del API, esperando entre requests"
   ]
  },
  {
   "cell_type": "code",
   "execution_count": 6,
   "metadata": {},
   "outputs": [
    {
     "name": "stdout",
     "output_type": "stream",
     "text": [
      "Starting to check: creadas_. We're at 1/1\n",
      "Finished checking: creadas_\n"
     ]
    }
   ],
   "source": [
    "# We define a counter to sleep between requests\n",
    "counter = 0\n",
    "accounts_info = []\n",
    "for name in account_names:\n",
    "    print(f\"Starting to check: {name}. We're at {counter+1}/{len(account_names)}\")\n",
    "    # We sleep between calls\n",
    "    if(counter != 0):\n",
    "        print('Waiting...')\n",
    "        sleep(random.uniform(15,30))\n",
    "    response = get_info_from_api(name, 100 if name != \"eslandesoficial\" else 450, counter)\n",
    "    # We map out the data\n",
    "    media_count = len(response['medias'])\n",
    "    account_info = dict()\n",
    "    account_info[\"username\"] = name\n",
    "    account_info[\"likes_sum\"] = reduce(lambda accum,item: item.likes_count + accum, response['medias'], 0)\n",
    "    account_info[\"comments_sum\"] = reduce(lambda accum,item: item.comments_count + accum, response['medias'], 0)\n",
    "    account_info['follower_count'] = response['account'].followed_by_count\n",
    "    account_info['march_posts_count'] = len(list(filter(lambda media: media_filter(media, 2020,3,3), response['medias'])))\n",
    "    account_info['april_posts_count'] = len(list(filter(lambda media: media_filter(media, 2020,4,4), response['medias'])))\n",
    "    account_info['may_posts_count'] = len(list(filter(lambda media: media_filter(media, 2020,5,5), response['medias'])))\n",
    "    if(account_info['march_posts_count'] == 0 or account_info['april_posts_count'] == 0 or account_info['may_posts_count'] == 0):\n",
    "        print(f\"Might be missing some posts here at account: {name} \")\n",
    "    if(media_count != 0):\n",
    "        account_info['mean_likes'] = account_info[\"likes_sum\"] / media_count\n",
    "        account_info['mean_comments'] = account_info[\"comments_sum\"] / media_count\n",
    "        account_info['mean_interaction'] = ( account_info['likes_sum'] + account_info['comments_sum'] ) / media_count\n",
    "    accounts_info.append(account_info)\n",
    "    print(f\"Finished checking: {name}\")\n",
    "    # We wait 5-10 minutes after 10 requests\n",
    "    if counter != 0 and counter % 5 == 0:\n",
    "        print('Waiting...')\n",
    "        sleep(random.uniform(300,600))\n",
    "    # We add to the counter\n",
    "    counter += 1"
   ]
  },
  {
   "cell_type": "markdown",
   "metadata": {},
   "source": [
    "## Metemos la información en un DataFrame de Pandas"
   ]
  },
  {
   "cell_type": "code",
   "execution_count": 7,
   "metadata": {},
   "outputs": [],
   "source": [
    "df = pd.DataFrame()\n",
    "keys = [\"username\", \"likes_sum\", \"comments_sum\", 'follower_count', 'march_posts_count', 'april_posts_count', 'may_posts_count', 'mean_likes', 'mean_comments', 'mean_interaction']\n",
    "for key in keys:\n",
    "    df[key] = pd.Series(list(map(lambda info: info[key] if key in info.keys() else 0, accounts_info)))"
   ]
  },
  {
   "cell_type": "markdown",
   "metadata": {},
   "source": [
    "## Exportamos a un CSV"
   ]
  },
  {
   "cell_type": "code",
   "execution_count": 8,
   "metadata": {},
   "outputs": [
    {
     "data": {
      "text/html": [
       "<div>\n",
       "<style scoped>\n",
       "    .dataframe tbody tr th:only-of-type {\n",
       "        vertical-align: middle;\n",
       "    }\n",
       "\n",
       "    .dataframe tbody tr th {\n",
       "        vertical-align: top;\n",
       "    }\n",
       "\n",
       "    .dataframe thead th {\n",
       "        text-align: right;\n",
       "    }\n",
       "</style>\n",
       "<table border=\"1\" class=\"dataframe\">\n",
       "  <thead>\n",
       "    <tr style=\"text-align: right;\">\n",
       "      <th></th>\n",
       "      <th>username</th>\n",
       "      <th>likes_sum</th>\n",
       "      <th>comments_sum</th>\n",
       "      <th>follower_count</th>\n",
       "      <th>march_posts_count</th>\n",
       "      <th>april_posts_count</th>\n",
       "      <th>may_posts_count</th>\n",
       "      <th>mean_likes</th>\n",
       "      <th>mean_comments</th>\n",
       "      <th>mean_interaction</th>\n",
       "    </tr>\n",
       "  </thead>\n",
       "  <tbody>\n",
       "    <tr>\n",
       "      <th>0</th>\n",
       "      <td>creadas_</td>\n",
       "      <td>806</td>\n",
       "      <td>104</td>\n",
       "      <td>461</td>\n",
       "      <td>15</td>\n",
       "      <td>3</td>\n",
       "      <td>9</td>\n",
       "      <td>29.851852</td>\n",
       "      <td>3.851852</td>\n",
       "      <td>33.703704</td>\n",
       "    </tr>\n",
       "  </tbody>\n",
       "</table>\n",
       "</div>"
      ],
      "text/plain": [
       "   username  likes_sum  comments_sum  follower_count  march_posts_count  \\\n",
       "0  creadas_        806           104             461                 15   \n",
       "\n",
       "   april_posts_count  may_posts_count  mean_likes  mean_comments  \\\n",
       "0                  3                9   29.851852       3.851852   \n",
       "\n",
       "   mean_interaction  \n",
       "0         33.703704  "
      ]
     },
     "execution_count": 8,
     "metadata": {},
     "output_type": "execute_result"
    }
   ],
   "source": [
    "df"
   ]
  },
  {
   "cell_type": "code",
   "execution_count": 10,
   "metadata": {},
   "outputs": [],
   "source": [
    "df.to_excel('nombre_de_archivo.xlsx')"
   ]
  }
 ],
 "metadata": {
  "kernelspec": {
   "display_name": "Python 3",
   "language": "python",
   "name": "python3"
  },
  "language_info": {
   "codemirror_mode": {
    "name": "ipython",
    "version": 3
   },
   "file_extension": ".py",
   "mimetype": "text/x-python",
   "name": "python",
   "nbconvert_exporter": "python",
   "pygments_lexer": "ipython3",
   "version": "3.8.2"
  }
 },
 "nbformat": 4,
 "nbformat_minor": 4
}