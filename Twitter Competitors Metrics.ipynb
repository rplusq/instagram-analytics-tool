{
 "cells": [
  {
   "cell_type": "markdown",
   "metadata": {},
   "source": [
    "# Analíticas de Twitter - Competencia\n",
    "\n",
    "#### Meses: Marzo, Abril y Mayo \n",
    "\n",
    "#### Se necesita:\n",
    "- Número de likes por post \n",
    "- Número de respuestas por post \n",
    "- Número de RTs por post \n",
    "- Número de seguidores \n",
    "\n",
    "#### Se desea:\n",
    "- Número de post publicados en cada mes\n",
    "- Interacción promedio por post (Likes + respuestas + RTs / Número de post publicados durante los 3 meses)"
   ]
  },
  {
   "cell_type": "markdown",
   "metadata": {},
   "source": [
    "## Importamos las librerías necesarias"
   ]
  },
  {
   "cell_type": "code",
   "execution_count": 1,
   "metadata": {},
   "outputs": [],
   "source": [
    "from tweepy import OAuthHandler\n",
    "from tweepy import API\n",
    "from tweepy import Cursor\n",
    "import tweepy\n",
    "import logging\n",
    "from datetime import datetime, date, time, timedelta\n",
    "from collections import Counter\n",
    "import sys\n",
    "import pandas as pd"
   ]
  },
  {
   "cell_type": "markdown",
   "metadata": {},
   "source": [
    "## Inicializamos la instancia de la librería de scraping"
   ]
  },
  {
   "cell_type": "code",
   "execution_count": 2,
   "metadata": {},
   "outputs": [],
   "source": [
    "consumer_key = \"HoZXZP6eW5CW86V9EcEw4oBcP\"\n",
    "consumer_secret = \"JKvzWsuXWsgDuAFeBW7i5MVLyDZ60AhXwSD0slBTQ70SX8Byga\"\n",
    "access_token = \"285395514-ZzvKkqW5fJrolpwqyRiNPDtaQ43R517c050APBQ0\"\n",
    "access_token_secret = \"m6ItBTrTV5SHWwXPSpDujWOpILIARaijHrtixxKWsHRKn\""
   ]
  },
  {
   "cell_type": "code",
   "execution_count": 3,
   "metadata": {},
   "outputs": [],
   "source": [
    "auth = OAuthHandler(consumer_key, consumer_secret)\n",
    "auth.set_access_token(access_token, access_token_secret)\n",
    "auth_api = API(auth, wait_on_rate_limit=True)"
   ]
  },
  {
   "cell_type": "code",
   "execution_count": 4,
   "metadata": {},
   "outputs": [],
   "source": [
    "def get_mean(sum, count):\n",
    "    return sum / count if count != 0 else 0"
   ]
  },
  {
   "cell_type": "code",
   "execution_count": 5,
   "metadata": {},
   "outputs": [],
   "source": [
    "def get_mean_daily_tweets(info):\n",
    "    delta = datetime.utcnow() - info.created_at\n",
    "    account_age_days = delta.days\n",
    "    return 0 if account_age_days == 0 else info.statuses_count / account_age_days"
   ]
  },
  {
   "cell_type": "markdown",
   "metadata": {},
   "source": [
    "## Definimos las cuentas a revisar"
   ]
  },
  {
   "cell_type": "code",
   "execution_count": 10,
   "metadata": {},
   "outputs": [],
   "source": [
    "# accounts_list = [\"NestleContigo \",\"AlimentosMaryVe\",\"EmpresasPolar\",\"Natulacoficial\",\"Yukeryve \",\"EslandesOficial \",\"Lacteos_Yaracuy\",\"lapastorena_ve\",\"QuesosTorondoy\",\"plumrosevzla\",\"HermoVenezuela\",\"EmbutidosRicci\",\"charcuteria_ve\",\"lamontserratina\",\"Charvenca\",\"Agronivar_tw\",\"SACarabobo\",\"HMotoresNag\",\"purolomoalibal\",\"FSantaTeresa\",\"fundaciondusa\",\"FUNDACIONBENGOA\",\"FundacionNadbio\"]\n",
    "accounts_list = ['adrianaszb']"
   ]
  },
  {
   "cell_type": "code",
   "execution_count": 11,
   "metadata": {},
   "outputs": [
    {
     "name": "stdout",
     "output_type": "stream",
     "text": [
      "Getting data for adrianaszb. 100.0%\n",
      "Done\n"
     ]
    }
   ],
   "source": [
    "accounts_info = []\n",
    "account_counter = 1\n",
    "for target in accounts_list:\n",
    "    # Basic info\n",
    "    print(f\"Getting data for {target}. {account_counter/len(accounts_list) * 100}%\")\n",
    "    api_response = auth_api.get_user(target)\n",
    "    tweets_count = api_response.statuses_count\n",
    "    account_info = dict()\n",
    "    account_info['username'] = target\n",
    "    account_info['created_at'] = api_response.created_at\n",
    "    account_info['tweets_count'] = tweets_count\n",
    "    account_info['follower_count'] = api_response.followers_count\n",
    "    account_info['mean_daily_tweets'] = get_mean_daily_tweets(api_response)\n",
    "    account_info['march_posts_count'] = 0\n",
    "    account_info['april_posts_count'] = 0\n",
    "    account_info['may_posts_count'] = 0\n",
    "    # Extra info\n",
    "    hashtags = []\n",
    "    mentions = []\n",
    "    tweet_count = 0\n",
    "    retweet_sum = 0\n",
    "    favorite_sum = 0\n",
    "    end_date = datetime.utcnow() - timedelta(days=108)\n",
    "    for status in Cursor(auth_api.user_timeline, id=target, q=\"filter:retweets\").items():\n",
    "        if(status.created_at.year != 2020):\n",
    "            print(\"No tweets this year\")\n",
    "            break\n",
    "        # Skip Retweets\n",
    "        if status.text.startswith(\"RT @\"):\n",
    "            continue\n",
    "#         Skip june tweets\n",
    "        if status.created_at.month == 6:\n",
    "            continue\n",
    "        # Add to the month count\n",
    "        if status.created_at.month == 5:\n",
    "            account_info['may_posts_count'] += 1\n",
    "        if status.created_at.month == 4:\n",
    "            account_info['april_posts_count'] += 1\n",
    "        if status.created_at.month == 3:\n",
    "            account_info['march_posts_count'] += 1\n",
    "        tweet_count += 1\n",
    "        retweet_sum += status.retweet_count\n",
    "        favorite_sum += status.favorite_count\n",
    "        if hasattr(status, \"entities\"):\n",
    "            entities = status.entities\n",
    "            if \"hashtags\" in entities:\n",
    "                for ent in entities[\"hashtags\"]:\n",
    "                    if ent is not None:\n",
    "                        if \"text\" in ent:\n",
    "                            hashtag = ent[\"text\"]\n",
    "                            if hashtag is not None:\n",
    "                                hashtags.append(hashtag)\n",
    "            if \"user_mentions\" in entities:\n",
    "                for ent in entities[\"user_mentions\"]:\n",
    "                    if ent is not None:\n",
    "                        if \"screen_name\" in ent:\n",
    "                            name = ent[\"screen_name\"]\n",
    "                            if name is not None:\n",
    "                                mentions.append(name)\n",
    "        \n",
    "        # Stop getting tweets after the end date\n",
    "        if status.created_at < end_date:\n",
    "            break\n",
    "    account_info['most_used_hashtags'] = ', '.join(list(map(lambda item: item[0], Counter(hashtags).most_common(10))))\n",
    "    account_info['most_mentioned_user'] = ', '.join(list(map(lambda item: item[0], Counter(mentions).most_common(10))))\n",
    "    account_info['likes_sum'] = favorite_sum\n",
    "    account_info['retweets_sum'] = retweet_sum\n",
    "    account_info['mean_likes'] = get_mean(account_info['likes_sum'], tweets_count)\n",
    "    account_info['mean_retweets'] = get_mean(account_info['retweets_sum'], tweets_count)\n",
    "    account_info['mean_interaction'] = account_info['mean_likes'] + account_info['mean_retweets']\n",
    "    accounts_info.append(account_info)\n",
    "    account_counter += 1\n",
    "print(\"Done\")"
   ]
  },
  {
   "cell_type": "markdown",
   "metadata": {},
   "source": [
    "## Pasamos la información a un Pandas DataFrame"
   ]
  },
  {
   "cell_type": "code",
   "execution_count": 12,
   "metadata": {},
   "outputs": [],
   "source": [
    "df = pd.DataFrame()\n",
    "keys = [\"username\", \"created_at\", \"tweets_count\", \"mean_daily_tweets\", \"retweets_sum\", \"likes_sum\", 'follower_count', 'march_posts_count', 'april_posts_count', 'may_posts_count', 'mean_likes', 'mean_retweets', 'mean_interaction', \"most_used_hashtags\", \"most_mentioned_user\"]\n",
    "for key in keys:\n",
    "    df[key] = pd.Series(list(map(lambda info: info[key] if key in info.keys() else 0, accounts_info)))"
   ]
  },
  {
   "cell_type": "markdown",
   "metadata": {},
   "source": [
    "## Exportamos a un CSV"
   ]
  },
  {
   "cell_type": "code",
   "execution_count": 13,
   "metadata": {},
   "outputs": [],
   "source": [
    "df.to_csv('xd.csv')"
   ]
  }
 ],
 "metadata": {
  "kernelspec": {
   "display_name": "Python 3",
   "language": "python",
   "name": "python3"
  },
  "language_info": {
   "codemirror_mode": {
    "name": "ipython",
    "version": 3
   },
   "file_extension": ".py",
   "mimetype": "text/x-python",
   "name": "python",
   "nbconvert_exporter": "python",
   "pygments_lexer": "ipython3",
   "version": "3.8.2"
  }
 },
 "nbformat": 4,
 "nbformat_minor": 4
}
