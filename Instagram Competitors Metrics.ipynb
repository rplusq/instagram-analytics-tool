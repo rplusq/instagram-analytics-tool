{
 "cells": [
  {
   "cell_type": "markdown",
   "metadata": {},
   "source": [
    "# Analíticas de Instagram - Competencia\n",
    "\n",
    "#### Meses: Marzo, Abril y Mayo \n",
    "\n",
    "#### Se necesita:\n",
    "- Número de likes por post \n",
    "- Número de comentarios por post \n",
    "- Número de seguidores \n",
    "\n",
    "#### Se desea:\n",
    "- Número de post publicados en cada mes\n",
    "- Interacción promedio por post (Likes + comentarios / Número de post publicados durante los 3 meses)"
   ]
  },
  {
   "cell_type": "markdown",
   "metadata": {},
   "source": [
    "## Importamos las librerías necesarias"
   ]
  },
  {
   "cell_type": "code",
   "execution_count": 7,
   "metadata": {},
   "outputs": [],
   "source": [
    "import random\n",
    "from time import sleep\n",
    "import datetime\n",
    "import json\n",
    "from igramscraper.instagram import Instagram\n",
    "from functools import reduce\n",
    "import pandas as pd"
   ]
  },
  {
   "cell_type": "markdown",
   "metadata": {},
   "source": [
    "## Inicializamos la instancia de la librería de scraping"
   ]
  },
  {
   "cell_type": "code",
   "execution_count": 8,
   "metadata": {},
   "outputs": [],
   "source": [
    "instagram = Instagram()"
   ]
  },
  {
   "cell_type": "markdown",
   "metadata": {},
   "source": [
    "## Función para filtrar posts que no son de marzo, abril o mayo del 2020"
   ]
  },
  {
   "cell_type": "code",
   "execution_count": 9,
   "metadata": {},
   "outputs": [],
   "source": [
    "def media_filter(media, year, start_month, end_month):\n",
    "    created_at_datetime = datetime.datetime.fromtimestamp(media.created_time)\n",
    "    media_year = created_at_datetime.year\n",
    "    media_month = created_at_datetime.month\n",
    "    return media_year == year and start_month <= media_month <= end_month"
   ]
  },
  {
   "cell_type": "markdown",
   "metadata": {},
   "source": [
    "## Definimos la función para pedir al API, reservando un tiempo adecuado entre requests"
   ]
  },
  {
   "cell_type": "code",
   "execution_count": 18,
   "metadata": {},
   "outputs": [],
   "source": [
    "def get_info_from_api(username, media_count, counter):\n",
    "    results = dict()\n",
    "    results['account'] = instagram.get_account(username)\n",
    "    # We sleep between calls\n",
    "    sleep(random.uniform(15,30))\n",
    "    # We filter the media that doesn't meet the requirements\n",
    "    medias = instagram.get_medias(username, media_count)\n",
    "    results['medias'] = list(filter(lambda media: media_filter(media, 2020,10,10), medias))\n",
    "    return results"
   ]
  },
  {
   "cell_type": "markdown",
   "metadata": {},
   "source": [
    "## Definimos los username de las cuentas que se revisarán"
   ]
  },
  {
   "cell_type": "code",
   "execution_count": 23,
   "metadata": {},
   "outputs": [],
   "source": [
    "account_names = [ 'natuchipsve', 'platanazovenezuela',]"
   ]
  },
  {
   "cell_type": "markdown",
   "metadata": {},
   "source": [
    "## Obtenemos la información del API, esperando entre requests"
   ]
  },
  {
   "cell_type": "code",
   "execution_count": 24,
   "metadata": {
    "scrolled": true
   },
   "outputs": [
    {
     "output_type": "stream",
     "name": "stdout",
     "text": [
      "Starting to check: natuchipsve. We're at 1/2\n",
      "Finished checking: natuchipsve\n",
      "Starting to check: platanazovenezuela. We're at 2/2\n",
      "Waiting...\n"
     ]
    },
    {
     "output_type": "error",
     "ename": "InstagramNotFoundException",
     "evalue": "Account with given username does not exist., Code:404",
     "traceback": [
      "\u001b[0;31m---------------------------------------------------------------------------\u001b[0m",
      "\u001b[0;31mInstagramNotFoundException\u001b[0m                Traceback (most recent call last)",
      "\u001b[0;32m<ipython-input-24-59450f81e525>\u001b[0m in \u001b[0;36m<module>\u001b[0;34m\u001b[0m\n\u001b[1;32m      8\u001b[0m         \u001b[0mprint\u001b[0m\u001b[0;34m(\u001b[0m\u001b[0;34m'Waiting...'\u001b[0m\u001b[0;34m)\u001b[0m\u001b[0;34m\u001b[0m\u001b[0;34m\u001b[0m\u001b[0m\n\u001b[1;32m      9\u001b[0m         \u001b[0msleep\u001b[0m\u001b[0;34m(\u001b[0m\u001b[0mrandom\u001b[0m\u001b[0;34m.\u001b[0m\u001b[0muniform\u001b[0m\u001b[0;34m(\u001b[0m\u001b[0;36m15\u001b[0m\u001b[0;34m,\u001b[0m\u001b[0;36m30\u001b[0m\u001b[0;34m)\u001b[0m\u001b[0;34m)\u001b[0m\u001b[0;34m\u001b[0m\u001b[0;34m\u001b[0m\u001b[0m\n\u001b[0;32m---> 10\u001b[0;31m     \u001b[0mresponse\u001b[0m \u001b[0;34m=\u001b[0m \u001b[0mget_info_from_api\u001b[0m\u001b[0;34m(\u001b[0m\u001b[0mname\u001b[0m\u001b[0;34m,\u001b[0m \u001b[0;36m160\u001b[0m\u001b[0;34m,\u001b[0m \u001b[0mcounter\u001b[0m\u001b[0;34m)\u001b[0m\u001b[0;34m\u001b[0m\u001b[0;34m\u001b[0m\u001b[0m\n\u001b[0m\u001b[1;32m     11\u001b[0m     \u001b[0;31m# We map out the data\u001b[0m\u001b[0;34m\u001b[0m\u001b[0;34m\u001b[0m\u001b[0;34m\u001b[0m\u001b[0m\n\u001b[1;32m     12\u001b[0m     \u001b[0mmedia_count\u001b[0m \u001b[0;34m=\u001b[0m \u001b[0mlen\u001b[0m\u001b[0;34m(\u001b[0m\u001b[0mresponse\u001b[0m\u001b[0;34m[\u001b[0m\u001b[0;34m'medias'\u001b[0m\u001b[0;34m]\u001b[0m\u001b[0;34m)\u001b[0m\u001b[0;34m\u001b[0m\u001b[0;34m\u001b[0m\u001b[0m\n",
      "\u001b[0;32m<ipython-input-18-3f339a1ba056>\u001b[0m in \u001b[0;36mget_info_from_api\u001b[0;34m(username, media_count, counter)\u001b[0m\n\u001b[1;32m      1\u001b[0m \u001b[0;32mdef\u001b[0m \u001b[0mget_info_from_api\u001b[0m\u001b[0;34m(\u001b[0m\u001b[0musername\u001b[0m\u001b[0;34m,\u001b[0m \u001b[0mmedia_count\u001b[0m\u001b[0;34m,\u001b[0m \u001b[0mcounter\u001b[0m\u001b[0;34m)\u001b[0m\u001b[0;34m:\u001b[0m\u001b[0;34m\u001b[0m\u001b[0;34m\u001b[0m\u001b[0m\n\u001b[1;32m      2\u001b[0m     \u001b[0mresults\u001b[0m \u001b[0;34m=\u001b[0m \u001b[0mdict\u001b[0m\u001b[0;34m(\u001b[0m\u001b[0;34m)\u001b[0m\u001b[0;34m\u001b[0m\u001b[0;34m\u001b[0m\u001b[0m\n\u001b[0;32m----> 3\u001b[0;31m     \u001b[0mresults\u001b[0m\u001b[0;34m[\u001b[0m\u001b[0;34m'account'\u001b[0m\u001b[0;34m]\u001b[0m \u001b[0;34m=\u001b[0m \u001b[0minstagram\u001b[0m\u001b[0;34m.\u001b[0m\u001b[0mget_account\u001b[0m\u001b[0;34m(\u001b[0m\u001b[0musername\u001b[0m\u001b[0;34m)\u001b[0m\u001b[0;34m\u001b[0m\u001b[0;34m\u001b[0m\u001b[0m\n\u001b[0m\u001b[1;32m      4\u001b[0m     \u001b[0;31m# We sleep between calls\u001b[0m\u001b[0;34m\u001b[0m\u001b[0;34m\u001b[0m\u001b[0;34m\u001b[0m\u001b[0m\n\u001b[1;32m      5\u001b[0m     \u001b[0msleep\u001b[0m\u001b[0;34m(\u001b[0m\u001b[0mrandom\u001b[0m\u001b[0;34m.\u001b[0m\u001b[0muniform\u001b[0m\u001b[0;34m(\u001b[0m\u001b[0;36m15\u001b[0m\u001b[0;34m,\u001b[0m\u001b[0;36m30\u001b[0m\u001b[0;34m)\u001b[0m\u001b[0;34m)\u001b[0m\u001b[0;34m\u001b[0m\u001b[0;34m\u001b[0m\u001b[0m\n",
      "\u001b[0;32m~/opt/miniconda3/envs/social-metrics/lib/python3.8/site-packages/igramscraper/instagram.py\u001b[0m in \u001b[0;36mget_account\u001b[0;34m(self, username)\u001b[0m\n\u001b[1;32m   1116\u001b[0m \u001b[0;34m\u001b[0m\u001b[0m\n\u001b[1;32m   1117\u001b[0m         \u001b[0;32mif\u001b[0m \u001b[0mInstagram\u001b[0m\u001b[0;34m.\u001b[0m\u001b[0mHTTP_NOT_FOUND\u001b[0m \u001b[0;34m==\u001b[0m \u001b[0mresponse\u001b[0m\u001b[0;34m.\u001b[0m\u001b[0mstatus_code\u001b[0m\u001b[0;34m:\u001b[0m\u001b[0;34m\u001b[0m\u001b[0;34m\u001b[0m\u001b[0m\n\u001b[0;32m-> 1118\u001b[0;31m             raise InstagramNotFoundException(\n\u001b[0m\u001b[1;32m   1119\u001b[0m                 'Account with given username does not exist.')\n\u001b[1;32m   1120\u001b[0m \u001b[0;34m\u001b[0m\u001b[0m\n",
      "\u001b[0;31mInstagramNotFoundException\u001b[0m: Account with given username does not exist., Code:404"
     ]
    }
   ],
   "source": [
    "# We define a counter to sleep between requests\n",
    "counter = 0\n",
    "accounts_info = []\n",
    "for name in account_names:\n",
    "    print(f\"Starting to check: {name}. We're at {counter+1}/{len(account_names)}\")\n",
    "    # We sleep between calls\n",
    "    if(counter != 0):\n",
    "        print('Waiting...')\n",
    "        sleep(random.uniform(15,30))\n",
    "    response = get_info_from_api(name, 160, counter)\n",
    "    # We map out the data\n",
    "    media_count = len(response['medias'])\n",
    "    account_info = dict()\n",
    "    account_info[\"username\"] = name\n",
    "    account_info[\"likes_sum\"] = reduce(lambda accum,item: item.likes_count + accum, response['medias'], 0)\n",
    "    account_info[\"comments_sum\"] = reduce(lambda accum,item: item.comments_count + accum, response['medias'], 0)\n",
    "    account_info['follower_count'] = response['account'].followed_by_count\n",
    "    # account_info['july_posts_count'] = len(list(filter(lambda media: media_filter(media, 2020,7,7), response['medias'])))\n",
    "    # account_info['august_posts_count'] = len(list(filter(lambda media: media_filter(media, 2020,8,8), response['medias'])))\n",
    "    account_info['october_posts_count'] = len(list(filter(lambda media: media_filter(media, 2020,10,10), response['medias'])))\n",
    "    # if(account_info['october_posts_count'] == 0 or account_info['july_posts_count'] == 0 or account_info['august_posts_count'] == 0):\n",
    "    if(account_info['october_posts_count'] == 0):\n",
    "        print(f\"Might be missing some posts here at account: {name} \")\n",
    "    if(media_count != 0):\n",
    "        account_info['mean_likes'] = account_info[\"likes_sum\"] / media_count\n",
    "        account_info['mean_comments'] = account_info[\"comments_sum\"] / media_count\n",
    "        account_info['mean_interaction'] = ( account_info['likes_sum'] + account_info['comments_sum'] ) / media_count\n",
    "    accounts_info.append(account_info)\n",
    "    print(f\"Finished checking: {name}\")\n",
    "    # We wait 5-10 minutes after 10 requests\n",
    "    if counter != 0 and counter % 5 == 0:\n",
    "        print('Waiting...')\n",
    "        sleep(random.uniform(300,600))\n",
    "    # We add to the counter\n",
    "    counter += 1"
   ]
  },
  {
   "cell_type": "markdown",
   "metadata": {},
   "source": [
    "## Metemos la información en un DataFrame de Pandas"
   ]
  },
  {
   "cell_type": "code",
   "execution_count": null,
   "metadata": {},
   "outputs": [],
   "source": [
    "df = pd.DataFrame()\n",
    "# keys = [\"username\", \"likes_sum\", \"comments_sum\", 'follower_count', 'july_posts_count', 'october_posts_count', 'september_posts_count', 'mean_likes', 'mean_comments', 'mean_interaction']\n",
    "keys = [\"username\", \"likes_sum\", \"comments_sum\", 'follower_count', 'october_posts_count', 'mean_likes', 'mean_comments', 'mean_interaction']\n",
    "for key in keys:\n",
    "    df[key] = pd.Series(list(map(lambda info: info[key] if key in info.keys() else 0, accounts_info)))"
   ]
  },
  {
   "cell_type": "markdown",
   "metadata": {},
   "source": [
    "## Exportamos a un CSV"
   ]
  },
  {
   "cell_type": "code",
   "execution_count": null,
   "metadata": {},
   "outputs": [],
   "source": [
    "df.to_excel('competencia_instagram_iselitas_oct_2020.xlsx')"
   ]
  },
  {
   "cell_type": "code",
   "execution_count": null,
   "metadata": {},
   "outputs": [],
   "source": []
  }
 ],
 "metadata": {
  "kernelspec": {
   "display_name": "Python 3",
   "language": "python",
   "name": "python3"
  },
  "language_info": {
   "codemirror_mode": {
    "name": "ipython",
    "version": 3
   },
   "file_extension": ".py",
   "mimetype": "text/x-python",
   "name": "python",
   "nbconvert_exporter": "python",
   "pygments_lexer": "ipython3",
   "version": "3.8.2-final"
  }
 },
 "nbformat": 4,
 "nbformat_minor": 4
}